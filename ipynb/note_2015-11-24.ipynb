{
 "cells": [
  {
   "cell_type": "markdown",
   "metadata": {},
   "source": [
    "# 2015-11-24 lognote\n",
    "\n",
    "## ToDo\n",
    "\n",
    "- かもめをとるときに write した phase data を read して確認する\n",
    "- DDS sum-up module（`dds_sum.vhd`）の buffering を増やしてみる\n",
    "- phase offset を実装して、(ch. 0, ch. 1) = (0°, 180°) でかもめがゼロになるか調べる\n",
    "- これらがダメな場合、対症療法として DAC の波形をみてもう一度周波数を設定する機能を実装する"
   ]
  }
 ],
 "metadata": {
  "kernelspec": {
   "display_name": "Python 2",
   "language": "python",
   "name": "python2"
  },
  "language_info": {
   "codemirror_mode": {
    "name": "ipython",
    "version": 2
   },
   "file_extension": ".py",
   "mimetype": "text/x-python",
   "name": "python",
   "nbconvert_exporter": "python",
   "pygments_lexer": "ipython2",
   "version": "2.7.6"
  }
 },
 "nbformat": 4,
 "nbformat_minor": 0
}
